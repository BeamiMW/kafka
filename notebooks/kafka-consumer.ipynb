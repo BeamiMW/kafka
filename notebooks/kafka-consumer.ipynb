{
 "cells": [
  {
   "cell_type": "code",
   "execution_count": null,
   "metadata": {},
   "outputs": [],
   "source": [
    "import json\n",
    "import uuid\n",
    "import os\n",
    "import json\n",
    "from dotenv import load_dotenv\n",
    "from pathlib import Path\n",
    "from kafka import KafkaProducer\n",
    "from faker import Faker\n",
    "from time import sleep"
   ]
  },
  {
   "cell_type": "code",
   "execution_count": null,
   "metadata": {},
   "outputs": [],
   "source": [
    "dotenv_path = Path('/resources/.env')\n",
    "load_dotenv(dotenv_path=dotenv_path)"
   ]
  },
  {
   "cell_type": "code",
   "execution_count": null,
   "metadata": {},
   "outputs": [],
   "source": [
    "kafka_host = os.getenv('KAFKA_HOST')\n",
    "topic = os.getenv('KAFKA_TOPIC_NAME')\n",
    "num_replication = int(os.getenv('KAFKA_REPLICATION'))\n",
    "num_partitions = int(os.getenv('KAFKA_PARTITION'))\n",
    "schema_registry_host = os.getenv('SCHEMA_REG_HOST')"
   ]
  },
  {
   "cell_type": "code",
   "execution_count": null,
   "metadata": {},
   "outputs": [],
   "source": [
    "sys.path.append('./protobuf')\n",
    "import protobuf_schema_pb2 "
   ]
  },
  {
   "cell_type": "code",
   "execution_count": null,
   "metadata": {},
   "outputs": [],
   "source": [
    "bootstrap_servers = f'{kafka_host}:9092' \n",
    "schema_registry_url = f'http://{schema_registry_host}:8081' \n",
    "schema_registry_client = SchemaRegistryClient({'url': schema_registry_url})"
   ]
  },
  {
   "cell_type": "code",
   "execution_count": null,
   "metadata": {},
   "outputs": [],
   "source": [
    "# Consuming and processing messages\n",
    "for message in consumer:\n",
    "    pet_data = message.value\n",
    "    print(f\"Consumed message: {pet_data}\")\n",
    "    \n",
    "    # Perform calculation: Total cost of owning the pet\n",
    "    total_cost = pet_data['price'] + (pet_data['weight'] * 10)\n",
    "    \n",
    "    # Print the calculated result\n",
    "    print(f\"Total cost of owning {pet_data['pet_name']} (Species: {pet_data['species']}, Breed: {pet_data['breed']}): ${total_cost}\")"
   ]
  }
 ],
 "metadata": {
  "language_info": {
   "name": "python"
  }
 },
 "nbformat": 4,
 "nbformat_minor": 2
}
